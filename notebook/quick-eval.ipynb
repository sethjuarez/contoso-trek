{
 "cells": [
  {
   "cell_type": "markdown",
   "metadata": {},
   "source": [
    "# Local Evaluation"
   ]
  },
  {
   "cell_type": "code",
   "execution_count": 1,
   "metadata": {},
   "outputs": [],
   "source": [
    "from promptflow import PFClient\n",
    "\n",
    "pf_client = PFClient()"
   ]
  },
  {
   "cell_type": "code",
   "execution_count": 2,
   "metadata": {},
   "outputs": [
    {
     "name": "stderr",
     "output_type": "stream",
     "text": [
      "[2023-11-29 18:13:08,354][promptflow._sdk.entities._connection][WARNING] - Please use connection.secrets[key] to access secrets.\n"
     ]
    },
    {
     "name": "stdout",
     "output_type": "stream",
     "text": [
      "2023-11-29 18:13:08 -0600   39040 execution.flow     INFO     Start to run 5 nodes with concurrency level 16.\n",
      "2023-11-29 18:13:08 -0600   39040 execution.flow     INFO     Executing node question_embedding. node run id: d16a937f-ce36-4eee-b4e5-43ecef979b3b_question_embedding_0\n",
      "2023-11-29 18:13:08 -0600   39040 execution.flow     INFO     Executing node customer_lookup. node run id: d16a937f-ce36-4eee-b4e5-43ecef979b3b_customer_lookup_0\n",
      "2023-11-29 18:13:09 -0600   39040 execution.flow     INFO     Node question_embedding completes.\n",
      "2023-11-29 18:13:09 -0600   39040 execution.flow     INFO     Executing node retrieve_documentation. node run id: d16a937f-ce36-4eee-b4e5-43ecef979b3b_retrieve_documentation_0\n",
      "2023-11-29 18:13:10 -0600   39040 execution.flow     INFO     Node customer_lookup completes.\n",
      "2023-11-29 18:13:10 -0600   39040 execution.flow     INFO     Node retrieve_documentation completes.\n",
      "2023-11-29 18:13:10 -0600   39040 execution.flow     INFO     Executing node customer_prompt. node run id: d16a937f-ce36-4eee-b4e5-43ecef979b3b_customer_prompt_0\n",
      "2023-11-29 18:13:10 -0600   39040 execution.flow     INFO     Node customer_prompt completes.\n",
      "2023-11-29 18:13:10 -0600   39040 execution.flow     INFO     Executing node llm_response. node run id: d16a937f-ce36-4eee-b4e5-43ecef979b3b_llm_response_0\n",
      "2023-11-29 18:13:10 -0600   39040 execution.flow     WARNING  Output of llm_response is not json serializable, use str to store it.\n",
      "2023-11-29 18:13:10 -0600   39040 execution.flow     INFO     Node llm_response completes.\n"
     ]
    }
   ],
   "source": [
    "question = \"What was in my previous order?\"\n",
    "customerId = \"4\"\n",
    "output = pf_client.test(\n",
    "    \"../\",\n",
    "    inputs={\n",
    "        \"chat_history\": [],\n",
    "        \"question\": question,\n",
    "        \"customerId\": customerId,\n",
    "    },\n",
    ")\n",
    "output[\"answer\"] = \"\".join(list(output[\"answer\"]))"
   ]
  },
  {
   "cell_type": "code",
   "execution_count": 3,
   "metadata": {},
   "outputs": [
    {
     "data": {
      "text/plain": [
       "{'answer': 'Hi Sarah Lee! 🌞 As a valued Platinum member, you have purchased the TrailMaster X4 Tent 🏕️ and the CozyNights Sleeping Bag 🌙 in the past, both perfect for any nature enthusiast! 🌳🌼',\n",
       " 'context': [{'id': '19',\n",
       "   'title': 'Adventure Dining Table',\n",
       "   'content': \"Discover the joy of outdoor adventures with the CampBuddy Adventure Dining Table. This feature-packed camping essential brings both comfort and convenience to your memorable trips. Made from high-quality aluminum, it promises long-lasting performance, weather resistance, and easy maintenance - all key for the great outdoors! It's light, portable, and comes with adjustable height settings to suit various seating arrangements and the spacious surface comfortably accommodates meals, drinks, and other essentials. The sturdy yet lightweight frame holds food, dishes, and utensils with ease. When it's time to pack up, it fold and stows away with no fuss, ready for the next adventure!  Perfect for camping, picnics, barbecues, and beach outings - its versatility shines as brightly as the summer sun! Durable, sturdy and a breeze to set up, the Adventure Dining Table will be a loyal companion on every trip. Embark on your next adventure and make lifetime memories with CampBuddy. As with all good experiences, it'll leave you wanting more! \",\n",
       "   'url': '/products/adventure-dining-table'},\n",
       "  {'id': '16',\n",
       "   'title': 'TrailLite Daypack',\n",
       "   'content': \"Step up your hiking game with HikeMate's TrailLite Daypack. Built for comfort and efficiency, this lightweight and durable backpack offers a spacious main compartment, multiple pockets, and organization-friendly features all in one sleek package. The adjustable shoulder straps and padded back panel ensure optimal comfort during those long exhilarating treks. Course through nature without worry as the daypack's water-resistant fabric protects your essentials from unexpected showers. Plus, never run dry with the integrated hydration system. And did we mention it comes in a plethora of colors and designs? So you can choose one that truly speaks to your outdoorsy soul! Keeping your visibility in mind, we've added reflective accents that light up in low-light conditions. Don't just carry a backpack, adorn a companion that takes you a step ahead in your adventures. Trust the TrailLite Daypack for a hassle-free, enjoyable hiking experience.\",\n",
       "   'url': '/products/traillite-daypack'}]}"
      ]
     },
     "execution_count": 3,
     "metadata": {},
     "output_type": "execute_result"
    }
   ],
   "source": [
    "output"
   ]
  },
  {
   "cell_type": "code",
   "execution_count": 4,
   "metadata": {},
   "outputs": [
    {
     "name": "stderr",
     "output_type": "stream",
     "text": [
      "[2023-11-29 18:13:11,183][promptflow._sdk.entities._connection][WARNING] - Please use connection.secrets[key] to access secrets.\n"
     ]
    },
    {
     "name": "stdout",
     "output_type": "stream",
     "text": [
      "2023-11-29 18:13:11 -0600   39040 execution.flow     INFO     Start to run 5 nodes with concurrency level 16.\n",
      "2023-11-29 18:13:11 -0600   39040 execution.flow     INFO     Executing node question_embedding. node run id: 614cfa5e-7c98-4c95-a002-710eade0fe8e_question_embedding_0\n",
      "2023-11-29 18:13:11 -0600   39040 execution.flow     INFO     Executing node customer_lookup. node run id: 614cfa5e-7c98-4c95-a002-710eade0fe8e_customer_lookup_0\n",
      "2023-11-29 18:13:11 -0600   39040 execution.flow     INFO     Node question_embedding completes.\n",
      "2023-11-29 18:13:11 -0600   39040 execution.flow     INFO     Executing node retrieve_documentation. node run id: 614cfa5e-7c98-4c95-a002-710eade0fe8e_retrieve_documentation_0\n",
      "2023-11-29 18:13:12 -0600   39040 execution.flow     INFO     Node customer_lookup completes.\n",
      "2023-11-29 18:13:12 -0600   39040 execution.flow     INFO     Node retrieve_documentation completes.\n",
      "2023-11-29 18:13:12 -0600   39040 execution.flow     INFO     Executing node customer_prompt. node run id: 614cfa5e-7c98-4c95-a002-710eade0fe8e_customer_prompt_0\n",
      "2023-11-29 18:13:12 -0600   39040 execution.flow     INFO     Node customer_prompt completes.\n",
      "2023-11-29 18:13:12 -0600   39040 execution.flow     INFO     Executing node llm_response. node run id: 614cfa5e-7c98-4c95-a002-710eade0fe8e_llm_response_0\n",
      "2023-11-29 18:13:12 -0600   39040 execution.flow     WARNING  Output of llm_response is not json serializable, use str to store it.\n",
      "2023-11-29 18:13:12 -0600   39040 execution.flow     INFO     Node llm_response completes.\n"
     ]
    }
   ],
   "source": [
    "question = \"What is the temperature rating of my sleeping bag?\"\n",
    "customerId = \"4\"\n",
    "output = pf_client.test(\n",
    "    \"../\",\n",
    "    inputs={\n",
    "        \"chat_history\": [],\n",
    "        \"question\": question,\n",
    "        \"customerId\": customerId,\n",
    "    },\n",
    ")\n",
    "output[\"answer\"] = \"\".join(list(output[\"answer\"]))"
   ]
  },
  {
   "cell_type": "code",
   "execution_count": 5,
   "metadata": {},
   "outputs": [
    {
     "name": "stdout",
     "output_type": "stream",
     "text": [
      "2023-11-29 18:13:14 -0600   39040 execution.flow     INFO     Start to run 2 nodes with concurrency level 16.\n",
      "2023-11-29 18:13:14 -0600   39040 execution.flow     INFO     Executing node groundedness_score. node run id: e2f9eeaa-315e-427c-9bcf-a6e3b5a31926_groundedness_score_0\n",
      "2023-11-29 18:13:15 -0600   39040 execution.flow     INFO     Node groundedness_score completes.\n",
      "2023-11-29 18:13:15 -0600   39040 execution.flow     INFO     Executing node concat_scores. node run id: e2f9eeaa-315e-427c-9bcf-a6e3b5a31926_concat_scores_0\n",
      "2023-11-29 18:13:15 -0600   39040 execution.flow     INFO     Node concat_scores completes.\n",
      "2023-11-29 18:13:15 -0600   39040 execution.flow     INFO     Start to run 1 nodes with concurrency level 16.\n",
      "2023-11-29 18:13:15 -0600   39040 execution.flow     INFO     Executing node aggregate_variants_results. node run id: 7fae7f28-307a-4a38-abde-4aa1ddfd989a_aggregate_variants_results_reduce\n",
      "2023-11-29 18:13:15 -0600   39040 execution.flow     INFO     Node aggregate_variants_results completes.\n"
     ]
    }
   ],
   "source": [
    "test = pf_client.test(\n",
    "    \"../eval/groundedness\",\n",
    "    inputs={\n",
    "        \"question\": question,\n",
    "        \"context\": str(output[\"context\"]),\n",
    "        \"answer\": output[\"answer\"],\n",
    "    },\n",
    ")"
   ]
  },
  {
   "cell_type": "code",
   "execution_count": 6,
   "metadata": {},
   "outputs": [
    {
     "data": {
      "text/plain": [
       "{'answer': 'Hi Sarah Lee! Based on the information in our relevant documents, your CozyNights Sleeping Bag features a reliable temperature rating suitable for spring, summer, and fall camping! 🏕️🌞🍁  To complement your sleeping bag, you may want to check out our TrailMaster X4 Tent, which features water-resistant construction and a spacious interior perfect for four occupants. ⛺️👨\\u200d👩\\u200d👧\\u200d👦🌧️',\n",
       " 'context': [{'id': '14',\n",
       "   'title': 'MountainDream Sleeping Bag',\n",
       "   'content': \"Meet the MountainDream Sleeping Bag: your new must-have companion for every outdoor adventure. Designed to handle 3-season camping with ease, it comes equipped with a premium synthetic insulation that will keep you cozy even when temperatures fall down to 15°F! Sporting a durable water-resistant nylon shell and soft breathable polyester lining, this bag doesn't sacrifice comfort for toughness. The star of the show is the contoured mummy shape that not only provides optimal heat retention but also cuts down on the weight. A smooth, snag-free YKK zipper with a unique anti-snag design allows for hassle-free operation, while the adjustable hood and full-length zipper baffle work together to ensure you stay warm all night long. Need to bring along some essentials? Not to worry! There's an interior pocket just for that. And when it's time to pack up? Just slip it into the included compression sack for easy storage and transport. Whether you're a backpacking pro or a camping novice, the MountainDream Sleeping Bag is the perfect blend of durability, warmth, and comfort that you've been looking for.\",\n",
       "   'url': '/products/mountaindream-sleeping-bag'},\n",
       "  {'id': '7',\n",
       "   'title': 'CozyNights Sleeping Bag',\n",
       "   'content': \"Embrace the great outdoors in any season with the lightweight CozyNights Sleeping Bag! This durable three-season bag is superbly designed to give hikers, campers, and backpackers comfort and warmth during spring, summer, and fall. With a compact design that folds down into a convenient stuff sack, you can whisk it away on any adventure without a hitch. The sleeping bag takes comfort seriously, featuring a handy hood, ample room and padding, and a reliable temperature rating. Crafted from high-quality polyester, it ensures long-lasting use and can even be zipped together with another bag for shared comfort. Whether you're gazing at stars or catching a quick nap between trails, the CozyNights Sleeping Bag makes it a treat. Don't just sleep— dream with CozyNights.\",\n",
       "   'url': '/products/cozynights-sleeping-bag'}]}"
      ]
     },
     "execution_count": 6,
     "metadata": {},
     "output_type": "execute_result"
    }
   ],
   "source": [
    "output"
   ]
  },
  {
   "cell_type": "code",
   "execution_count": 7,
   "metadata": {},
   "outputs": [
    {
     "data": {
      "text/plain": [
       "{'gpt_groundedness': 5.0}"
      ]
     },
     "execution_count": 7,
     "metadata": {},
     "output_type": "execute_result"
    }
   ],
   "source": [
    "test"
   ]
  },
  {
   "cell_type": "markdown",
   "metadata": {},
   "source": [
    "## Eval Flow"
   ]
  },
  {
   "cell_type": "code",
   "execution_count": 8,
   "metadata": {},
   "outputs": [
    {
     "name": "stdout",
     "output_type": "stream",
     "text": [
      "2023-11-29 18:13:15 -0600   39040 execution.flow     INFO     Start to run 8 nodes with concurrency level 16.\n",
      "2023-11-29 18:13:15 -0600   39040 execution.flow     INFO     Executing node coherence_score. node run id: 93b4e933-eb6b-41d1-ae6c-15f50c1fde59_coherence_score_0\n",
      "2023-11-29 18:13:15 -0600   39040 execution.flow     INFO     Executing node fluency_score. node run id: 93b4e933-eb6b-41d1-ae6c-15f50c1fde59_fluency_score_0\n",
      "2023-11-29 18:13:15 -0600   39040 execution.flow     INFO     Executing node groundedness_score. node run id: 93b4e933-eb6b-41d1-ae6c-15f50c1fde59_groundedness_score_0\n",
      "2023-11-29 18:13:15 -0600   39040 execution.flow     INFO     Executing node relevance_score. node run id: 93b4e933-eb6b-41d1-ae6c-15f50c1fde59_relevance_score_0\n",
      "2023-11-29 18:13:17 -0600   39040 execution.flow     INFO     Node coherence_score completes.\n",
      "2023-11-29 18:13:17 -0600   39040 execution.flow     INFO     Executing node coherence_concat_scores. node run id: 93b4e933-eb6b-41d1-ae6c-15f50c1fde59_coherence_concat_scores_0\n",
      "2023-11-29 18:13:17 -0600   39040 execution.flow     INFO     Node coherence_concat_scores completes.\n",
      "2023-11-29 18:13:17 -0600   39040 execution.flow     INFO     Node fluency_score completes.\n",
      "2023-11-29 18:13:17 -0600   39040 execution.flow     INFO     Executing node fluency_concat_scores. node run id: 93b4e933-eb6b-41d1-ae6c-15f50c1fde59_fluency_concat_scores_0\n",
      "2023-11-29 18:13:17 -0600   39040 execution.flow     INFO     Node fluency_concat_scores completes.\n",
      "2023-11-29 18:13:17 -0600   39040 execution.flow     INFO     Node relevance_score completes.\n",
      "2023-11-29 18:13:17 -0600   39040 execution.flow     INFO     Executing node relevance_concat_scores. node run id: 93b4e933-eb6b-41d1-ae6c-15f50c1fde59_relevance_concat_scores_0\n",
      "2023-11-29 18:13:17 -0600   39040 execution.flow     INFO     Node relevance_concat_scores completes.\n",
      "2023-11-29 18:13:17 -0600   39040 execution.flow     INFO     Node groundedness_score completes.\n",
      "2023-11-29 18:13:17 -0600   39040 execution.flow     INFO     Executing node groundedness_concat_scores. node run id: 93b4e933-eb6b-41d1-ae6c-15f50c1fde59_groundedness_concat_scores_0\n",
      "2023-11-29 18:13:17 -0600   39040 execution.flow     INFO     Node groundedness_concat_scores completes.\n",
      "2023-11-29 18:13:17 -0600   39040 execution.flow     INFO     Start to run 4 nodes with concurrency level 16.\n",
      "2023-11-29 18:13:17 -0600   39040 execution.flow     INFO     Executing node coherence_aggregate_variants_results. node run id: 4d118ede-de8f-4821-9a00-0f28257bfe61_coherence_aggregate_variants_results_reduce\n",
      "2023-11-29 18:13:17 -0600   39040 execution.flow     INFO     Executing node fluency_aggregate_variants_results. node run id: 4d118ede-de8f-4821-9a00-0f28257bfe61_fluency_aggregate_variants_results_reduce\n",
      "2023-11-29 18:13:17 -0600   39040 execution.flow     INFO     Executing node groundedness_aggregate_variants_results. node run id: 4d118ede-de8f-4821-9a00-0f28257bfe61_groundedness_aggregate_variants_results_reduce\n",
      "2023-11-29 18:13:17 -0600   39040 execution.flow     INFO     Node coherence_aggregate_variants_results completes.\n",
      "2023-11-29 18:13:17 -0600   39040 execution.flow     INFO     Executing node relevance_aggregate_variants_results. node run id: 4d118ede-de8f-4821-9a00-0f28257bfe61_relevance_aggregate_variants_results_reduce\n",
      "2023-11-29 18:13:17 -0600   39040 execution.flow     INFO     Node fluency_aggregate_variants_results completes.\n",
      "2023-11-29 18:13:17 -0600   39040 execution.flow     INFO     Node groundedness_aggregate_variants_results completes.\n",
      "2023-11-29 18:13:17 -0600   39040 execution.flow     INFO     Node relevance_aggregate_variants_results completes.\n"
     ]
    }
   ],
   "source": [
    "test_multi = pf_client.test(\n",
    "    \"../eval/multi_flow\",\n",
    "    inputs={\n",
    "        \"question\": question,\n",
    "        \"context\": str(output[\"context\"]),\n",
    "        \"answer\": output[\"answer\"],\n",
    "    },\n",
    ")"
   ]
  },
  {
   "cell_type": "code",
   "execution_count": 9,
   "metadata": {},
   "outputs": [
    {
     "data": {
      "text/plain": [
       "{'gpt_coherence': 4.0,\n",
       " 'gpt_fluency': 5.0,\n",
       " 'gpt_groundedness': 3.0,\n",
       " 'gpt_relevance': 2.0}"
      ]
     },
     "execution_count": 9,
     "metadata": {},
     "output_type": "execute_result"
    }
   ],
   "source": [
    "test_multi"
   ]
  },
  {
   "cell_type": "markdown",
   "metadata": {},
   "source": [
    "# Cloud Batch Run on Json Data"
   ]
  },
  {
   "cell_type": "code",
   "execution_count": 35,
   "metadata": {},
   "outputs": [],
   "source": [
    "import json\n",
    "# Import required libraries\n",
    "from promptflow.azure import PFClient\n",
    "\n",
    "# Import required libraries\n",
    "from azure.identity import DefaultAzureCredential, InteractiveBrowserCredential"
   ]
  },
  {
   "cell_type": "code",
   "execution_count": 36,
   "metadata": {},
   "outputs": [],
   "source": [
    "try:\n",
    "    credential = DefaultAzureCredential()\n",
    "    # Check if given credential can get token successfully.\n",
    "    credential.get_token(\"https://management.azure.com/.default\")\n",
    "except Exception as ex:\n",
    "    # Fall back to InteractiveBrowserCredential in case DefaultAzureCredential not work\n",
    "    credential = InteractiveBrowserCredential()"
   ]
  },
  {
   "cell_type": "code",
   "execution_count": 37,
   "metadata": {},
   "outputs": [
    {
     "name": "stderr",
     "output_type": "stream",
     "text": [
      "Found the config file in: ..\\config.json\n"
     ]
    }
   ],
   "source": [
    "config_path = \"../config.json\"\n",
    "pf = PFClient.from_config(credential=credential, path=config_path)"
   ]
  },
  {
   "cell_type": "code",
   "execution_count": 38,
   "metadata": {},
   "outputs": [],
   "source": [
    "runtime = \"contoso-retail-runtime\"\n",
    "# load flow\n",
    "flow = \"../\"\n",
    "data = \"../data/testdata.jsonl\""
   ]
  },
  {
   "cell_type": "code",
   "execution_count": 51,
   "metadata": {},
   "outputs": [
    {
     "name": "stdout",
     "output_type": "stream",
     "text": [
      "2023_11_29_192747_base_run\n"
     ]
    }
   ],
   "source": [
    "# get current time stamp\n",
    "import datetime\n",
    "now = datetime.datetime.now()\n",
    "timestamp = now.strftime(\"%Y_%m_%d_%H%M%S\")\n",
    "run_name = timestamp+\"_base_run\"\n",
    "print(run_name)"
   ]
  },
  {
   "cell_type": "code",
   "execution_count": 52,
   "metadata": {},
   "outputs": [
    {
     "name": "stdout",
     "output_type": "stream",
     "text": [
      "Portal url: https://ml.azure.com/prompts/flow/bulkrun/run/2023_11_29_192747_base_run/details?wsid=/subscriptions/91d27443-f037-45d9-bb0c-428256992df6/resourceGroups/rg-contosooutdoors/providers/Microsoft.MachineLearningServices/workspaces/contoso-store\n",
      "name: 2023_11_29_192747_base_run\n",
      "created_on: '2023-11-30T01:28:08.060217+00:00'\n",
      "status: Preparing\n",
      "display_name: 2023_11_29_192747_base_run\n",
      "description: null\n",
      "tags: {}\n",
      "properties:\n",
      "  azureml.promptflow.runtime_name: contoso-retail-runtime\n",
      "  azureml.promptflow.runtime_version: 20231024.v1\n",
      "  azureml.promptflow.definition_file_name: flow.dag.yaml\n",
      "  azureml.promptflow.session_id: c284997311bc83cae62ec6a3be730410617ebd278b1f935c\n",
      "  azureml.promptflow.flow_lineage_id: 429e1e6d26688d24763c13521763a396c1f37974a875a82d49bb0ba9df1dc560\n",
      "  azureml.promptflow.flow_definition_datastore_name: workspaceblobstore\n",
      "  azureml.promptflow.flow_definition_blob_path: LocalUpload/e670f8bea96d6bc9411a962210f4ad32/contoso-trek/flow.dag.yaml\n",
      "  azureml.promptflow.inputs_mapping: '{\"customerId\":\"${data.customerId}\",\"question\":\"${data.question}\"}'\n",
      "  azureml.promptflow.snapshot_id: 100e4d57-1a7d-4bd5-98bb-1e0c9c2ab95f\n",
      "  _azureml.evaluation_run: promptflow.BatchRun\n",
      "creation_context:\n",
      "  userObjectId: 50c2d972-de75-441d-ab86-ce5b387ed84a\n",
      "  userPuId: 1003200035704ECF\n",
      "  userIdp: null\n",
      "  userAltSecId: null\n",
      "  userIss: https://sts.windows.net/72f988bf-86f1-41af-91ab-2d7cd011db47/\n",
      "  userTenantId: 72f988bf-86f1-41af-91ab-2d7cd011db47\n",
      "  userName: Cassie Breviu\n",
      "  upn: null\n",
      "start_time: null\n",
      "end_time: null\n",
      "duration: null\n",
      "portal_url: https://ml.azure.com/prompts/flow/bulkrun/run/2023_11_29_192747_base_run/details?wsid=/subscriptions/91d27443-f037-45d9-bb0c-428256992df6/resourceGroups/rg-contosooutdoors/providers/Microsoft.MachineLearningServices/workspaces/contoso-store\n",
      "data: azureml://datastores/workspaceblobstore/paths/LocalUpload/da7da0535829a1c714482f457f2a936e/testdata.jsonl\n",
      "data_portal_url: https://ml.azure.com/data/datastore/workspaceblobstore/edit?wsid=/subscriptions/91d27443-f037-45d9-bb0c-428256992df6/resourceGroups/rg-contosooutdoors/providers/Microsoft.MachineLearningServices/workspaces/contoso-store&activeFilePath=LocalUpload/da7da0535829a1c714482f457f2a936e/testdata.jsonl#browseTab\n",
      "output: null\n",
      "output_portal_url: null\n",
      "\n"
     ]
    }
   ],
   "source": [
    "# create run\n",
    "\n",
    "base_run = pf.run(\n",
    "    flow=flow,\n",
    "    data=data,\n",
    "    column_mapping={\n",
    "        # reference data\n",
    "        \"customerId\": \"${data.customerId}\",\n",
    "        \"question\": \"${data.question}\",\n",
    "    },\n",
    "    runtime=runtime,\n",
    "    # create a display name as current datetime\n",
    "    display_name=run_name,\n",
    "    name=run_name\n",
    ")\n",
    "print(base_run)"
   ]
  },
  {
   "cell_type": "code",
   "execution_count": 53,
   "metadata": {},
   "outputs": [
    {
     "name": "stdout",
     "output_type": "stream",
     "text": [
      "2023-11-30 01:28:14 +0000      45 promptflow-runtime INFO     [2023_11_29_192747_base_run] Receiving v2 bulk run request c8f5a295-bd0d-4594-ac97-b2732c83a75b: {\"flow_id\": \"2023_11_29_192747_base_run\", \"flow_run_id\": \"2023_11_29_192747_base_run\", \"flow_source\": {\"flow_source_type\": 1, \"flow_source_info\": {\"snapshot_id\": \"100e4d57-1a7d-4bd5-98bb-1e0c9c2ab95f\"}, \"flow_dag_file\": \"flow.dag.yaml\"}, \"connections\": \"**data_scrubbed**\", \"log_path\": \"https://stcontosoout446048492429.blob.core.windows.net/azureml/ExperimentRun/dcid.2023_11_29_192747_base_run/logs/azureml/executionlogs.txt?sv=2019-07-07&sr=b&sig=**data_scrubbed**&skoid=6a9cdc9c-374e-4dae-aeb3-39ff5126526d&sktid=72f988bf-86f1-41af-91ab-2d7cd011db47&skt=2023-11-29T22%3A56%3A02Z&ske=2023-12-01T07%3A06%3A02Z&sks=b&skv=2019-07-07&st=2023-11-30T01%3A18%3A10Z&se=2023-11-30T09%3A28%3A10Z&sp=rcw\", \"app_insights_instrumentation_key\": \"InstrumentationKey=**data_scrubbed**;IngestionEndpoint=https://eastus-6.in.applicationinsights.azure.com/;LiveEndpoint=https://eastus.livediagnostics.monitor.azure.com/\", \"data_inputs\": {\"data\": \"azureml://datastores/workspaceblobstore/paths/LocalUpload/da7da0535829a1c714482f457f2a936e/testdata.jsonl\"}, \"inputs_mapping\": {\"customerId\": \"${data.customerId}\", \"question\": \"${data.question}\"}, \"azure_storage_setting\": {\"azure_storage_mode\": 1, \"storage_account_name\": \"stcontosoout446048492429\", \"blob_container_name\": \"azureml-blobstore-4ab2cc7d-74ab-4a3f-9ce1-218668c55b0e\", \"flow_artifacts_root_path\": \"promptflow/PromptFlowArtifacts/2023_11_29_192747_base_run\", \"blob_container_sas_token\": \"?sv=2019-07-07&sr=c&sig=**data_scrubbed**&skoid=6a9cdc9c-374e-4dae-aeb3-39ff5126526d&sktid=72f988bf-86f1-41af-91ab-2d7cd011db47&skt=2023-11-30T01%3A28%3A12Z&ske=2023-12-07T01%3A28%3A11Z&sks=b&skv=2019-07-07&se=2023-12-07T01%3A28%3A11Z&sp=racwl\", \"output_datastore_name\": \"workspaceblobstore\"}}\n",
      "2023-11-30 01:28:14 +0000      45 promptflow-runtime INFO     Runtime version: 20231024.v1. PromptFlow version: 0.1.0b8.dev5\n",
      "2023-11-30 01:28:14 +0000      45 promptflow-runtime INFO     Running <function RunHistoryClient.get_run at 0x7effccc8d310>, 3 more tries to go.\n",
      "2023-11-30 01:28:14 +0000      45 promptflow-runtime INFO     Running <function RunHistoryClient.get_run at 0x7effccc8d280>, 3 more tries to go.\n",
      "2023-11-30 01:28:14 +0000      45 promptflow-runtime INFO     Running <function RunHistoryClient.update_run_status at 0x7effccc8d0d0>, 3 more tries to go.\n",
      "2023-11-30 01:28:14 +0000      45 promptflow-runtime INFO     Updating 2023_11_29_192747_base_run to Status.Preparing...\n",
      "2023-11-30 01:28:14 +0000      45 promptflow-runtime INFO     Starting to check process 3396 status for run 2023_11_29_192747_base_run\n",
      "2023-11-30 01:28:14 +0000      45 promptflow-runtime INFO     Start checking run status for bulk run 2023_11_29_192747_base_run\n",
      "2023-11-30 01:28:14 +0000      45 promptflow-runtime INFO     Start checking run status for run 2023_11_29_192747_base_run\n",
      "2023-11-30 01:28:14 +0000    3396 promptflow-runtime INFO     [45--3396] Start processing flowV2......\n",
      "2023-11-30 01:28:14 +0000    3396 promptflow-runtime INFO     Setting mlflow tracking uri...\n",
      "2023-11-30 01:28:15 +0000    3396 promptflow-runtime INFO     Validating 'AzureML Data Scientist' user authentication...\n",
      "2023-11-30 01:28:15 +0000    3396 promptflow-runtime INFO     Running <function RuntimeConfig.validate_by_get_dummy_run at 0x7effccc97790>, 5 more tries to go.\n",
      "2023-11-30 01:28:15 +0000    3396 promptflow-runtime INFO     Successfully validated 'AzureML Data Scientist' user authentication.\n",
      "2023-11-30 01:28:15 +0000    3396 promptflow-runtime INFO     Using AzureMLRunStorageV2\n",
      "2023-11-30 01:28:15 +0000    3396 promptflow-runtime INFO     Setting mlflow tracking uri to 'azureml://eastus.api.azureml.ms/mlflow/v1.0/subscriptions/91d27443-f037-45d9-bb0c-428256992df6/resourceGroups/rg-contosooutdoors/providers/Microsoft.MachineLearningServices/workspaces/contoso-store'\n",
      "2023-11-30 01:28:15 +0000    3396 promptflow-runtime INFO     Running <function MlflowHelper.get_host_creds at 0x7eff9917fb80>, 5 more tries to go.\n",
      "2023-11-30 01:28:15 +0000    3396 promptflow-runtime INFO     Initialized blob service client for AzureMLRunTracker.\n",
      "2023-11-30 01:28:15 +0000    3396 promptflow-runtime INFO     Setting mlflow tracking uri to 'azureml://eastus.api.azureml.ms/mlflow/v1.0/subscriptions/91d27443-f037-45d9-bb0c-428256992df6/resourceGroups/rg-contosooutdoors/providers/Microsoft.MachineLearningServices/workspaces/contoso-store'\n",
      "2023-11-30 01:28:15 +0000    3396 promptflow-runtime INFO     Running <function MlflowHelper.get_host_creds at 0x7eff9917fb80>, 5 more tries to go.\n",
      "2023-11-30 01:28:15 +0000    3396 promptflow-runtime INFO     Running <function SnapshotsClient.download_snapshot at 0x7effcbf0b700>, 3 more tries to go.\n",
      "2023-11-30 01:28:15 +0000    3396 promptflow-runtime INFO     Get snapshot sas url for 100e4d57-1a7d-4bd5-98bb-1e0c9c2ab95f...\n",
      "2023-11-30 01:28:22 +0000    3396 promptflow-runtime INFO     Downloading snapshot 100e4d57-1a7d-4bd5-98bb-1e0c9c2ab95f from uri https://stcontosoout446048492429.blob.core.windows.net/snapshotzips/contoso-store:4ab2cc7d-74ab-4a3f-9ce1-218668c55b0e:snapshotzip/100e4d57-1a7d-4bd5-98bb-1e0c9c2ab95f.zip...\n",
      "2023-11-30 01:28:22 +0000    3396 promptflow-runtime INFO     Downloaded file /service/app/46191/requests/2023_11_29_192747_base_run/100e4d57-1a7d-4bd5-98bb-1e0c9c2ab95f.zip with size 137015 for snapshot 100e4d57-1a7d-4bd5-98bb-1e0c9c2ab95f.\n",
      "2023-11-30 01:28:22 +0000    3396 promptflow-runtime INFO     Download snapshot 100e4d57-1a7d-4bd5-98bb-1e0c9c2ab95f completed.\n",
      "2023-11-30 01:28:22 +0000    3396 promptflow-runtime INFO     Running <function prepare_data at 0x7eff95cc73a0>, 3 more tries to go.\n",
      "2023-11-30 01:28:22 +0000    3396 promptflow-runtime INFO     Resolve data from url finished in 0.47282138280570507 seconds\n",
      "2023-11-30 01:28:23 +0000    3396 promptflow-runtime INFO     Flow run is not terminated, skip persisting flow run record.\n",
      "2023-11-30 01:28:23 +0000    3396 promptflow-runtime INFO     Starting the aml run '2023_11_29_192747_base_run'...\n",
      "2023-11-30 01:28:23 +0000    3396 execution.bulk     INFO     Using fork, process count: 5\n",
      "2023-11-30 01:28:23 +0000    3430 execution          INFO     Process 3430 started.\n",
      "2023-11-30 01:28:23 +0000    3434 execution          INFO     Process 3434 started.\n",
      "2023-11-30 01:28:23 +0000    3442 execution          INFO     Process 3442 started.\n",
      "2023-11-30 01:28:23 +0000    3438 execution          INFO     Process 3438 started.\n",
      "2023-11-30 01:28:23 +0000    3446 execution          INFO     Process 3446 started.\n",
      "2023-11-30 01:28:23 +0000    3396 execution          INFO     Process name: Process-40:3, Process id: 3430, Line number: 0 start execution.\n",
      "2023-11-30 01:28:23 +0000    3396 execution          INFO     Process name: Process-40:4, Process id: 3434, Line number: 1 start execution.\n",
      "2023-11-30 01:28:23 +0000    3396 promptflow-runtime INFO     Flow run is not terminated, skip persisting flow run record.\n",
      "2023-11-30 01:28:23 +0000    3396 execution          INFO     Process name: Process-40:5, Process id: 3442, Line number: 2 start execution.\n",
      "2023-11-30 01:28:23 +0000    3396 promptflow-runtime INFO     Flow run is not terminated, skip persisting flow run record.\n",
      "2023-11-30 01:28:23 +0000    3396 execution          INFO     Process name: Process-40:2, Process id: 3438, Line number: 3 start execution.\n",
      "2023-11-30 01:28:23 +0000    3396 promptflow-runtime INFO     Flow run is not terminated, skip persisting flow run record.\n",
      "2023-11-30 01:28:23 +0000    3396 execution          INFO     Process name: Process-40:6, Process id: 3446, Line number: 4 start execution.\n",
      "2023-11-30 01:28:24 +0000    3396 promptflow-runtime INFO     Flow run is not terminated, skip persisting flow run record.\n",
      "2023-11-30 01:28:24 +0000    3396 promptflow-runtime INFO     Flow run is not terminated, skip persisting flow run record.\n",
      "2023-11-30 01:28:25 +0000    3396 execution          INFO     Process name: Process-40:2, Process id: 3438, Line number: 3 completed.\n",
      "2023-11-30 01:28:25 +0000    3396 execution.bulk     INFO     Finished 1 / 5 lines.\n",
      "2023-11-30 01:28:25 +0000    3396 execution.bulk     INFO     Average execution time for completed lines: 1.5 seconds. Estimated time for incomplete lines: 6.0 seconds.\n",
      "2023-11-30 01:28:25 +0000    3396 execution          INFO     Process name: Process-40:5, Process id: 3442, Line number: 2 completed.\n",
      "2023-11-30 01:28:25 +0000    3396 execution          INFO     Process name: Process-40:6, Process id: 3446, Line number: 4 completed.\n",
      "2023-11-30 01:28:25 +0000    3396 execution.bulk     INFO     Finished 3 / 5 lines.\n",
      "2023-11-30 01:28:25 +0000    3396 execution.bulk     INFO     Finished 3 / 5 lines.\n",
      "2023-11-30 01:28:25 +0000    3396 execution.bulk     INFO     Average execution time for completed lines: 0.63 seconds. Estimated time for incomplete lines: 1.26 seconds.\n",
      "2023-11-30 01:28:25 +0000    3396 execution.bulk     INFO     Average execution time for completed lines: 0.64 seconds. Estimated time for incomplete lines: 1.28 seconds.\n",
      "2023-11-30 01:28:25 +0000    3396 execution          INFO     Process name: Process-40:3, Process id: 3430, Line number: 0 completed.\n",
      "2023-11-30 01:28:25 +0000    3396 execution.bulk     INFO     Finished 4 / 5 lines.\n",
      "2023-11-30 01:28:25 +0000    3396 execution.bulk     INFO     Average execution time for completed lines: 0.52 seconds. Estimated time for incomplete lines: 0.52 seconds.\n",
      "2023-11-30 01:28:25 +0000    3396 execution          INFO     Process name: Process-40:4, Process id: 3434, Line number: 1 completed.\n",
      "2023-11-30 01:28:25 +0000    3396 execution.bulk     INFO     Finished 5 / 5 lines.\n",
      "2023-11-30 01:28:25 +0000    3396 execution.bulk     INFO     Average execution time for completed lines: 0.42 seconds. Estimated time for incomplete lines: 0.0 seconds.\n",
      "2023-11-30 01:28:29 +0000    3396 execution.bulk     INFO     Upload status summary metrics for run 2023_11_29_192747_base_run finished in 3.0292283296585083 seconds\n",
      "2023-11-30 01:28:29 +0000    3396 promptflow-runtime INFO     Successfully write run properties {\"azureml.promptflow.total_tokens\": 6325, \"_azureml.evaluate_artifacts\": \"[{\\\"path\\\": \\\"instance_results.jsonl\\\", \\\"type\\\": \\\"table\\\"}]\"} with run id '2023_11_29_192747_base_run'\n",
      "2023-11-30 01:28:29 +0000    3396 execution.bulk     INFO     Upload RH properties for run 2023_11_29_192747_base_run finished in 0.12639474403113127 seconds\n",
      "2023-11-30 01:28:30 +0000    3396 promptflow-runtime INFO     Running <function AssetClient.create_unregistered_output at 0x7effcc0363a0>, 3 more tries to go.\n",
      "2023-11-30 01:28:30 +0000    3396 promptflow-runtime INFO     Creating unregistered output Asset for Run 2023_11_29_192747_base_run...\n",
      "2023-11-30 01:28:30 +0000    3396 promptflow-runtime INFO     Created debug_info Asset: azureml://locations/eastus/workspaces/4ab2cc7d-74ab-4a3f-9ce1-218668c55b0e/data/azureml_2023_11_29_192747_base_run_output_data_debug_info/versions/1\n",
      "2023-11-30 01:28:30 +0000    3396 promptflow-runtime INFO     Running <function AssetClient.create_unregistered_output at 0x7effcc0363a0>, 3 more tries to go.\n",
      "2023-11-30 01:28:30 +0000    3396 promptflow-runtime INFO     Creating unregistered output Asset for Run 2023_11_29_192747_base_run...\n",
      "2023-11-30 01:28:30 +0000    3396 promptflow-runtime INFO     Created flow_outputs output Asset: azureml://locations/eastus/workspaces/4ab2cc7d-74ab-4a3f-9ce1-218668c55b0e/data/azureml_2023_11_29_192747_base_run_output_data_flow_outputs/versions/1\n",
      "2023-11-30 01:28:30 +0000    3396 promptflow-runtime INFO     Running <function ArtifactClient.register_artifact at 0x7effcc036670>, 3 more tries to go.\n",
      "2023-11-30 01:28:30 +0000    3396 promptflow-runtime INFO     Creating Artifact for Run 2023_11_29_192747_base_run...\n",
      "2023-11-30 01:28:30 +0000    3396 promptflow-runtime INFO     Created instance_results.jsonl Artifact.\n",
      "2023-11-30 01:28:30 +0000    3396 promptflow-runtime INFO     Running <function RunHistoryClient.patch_run at 0x7effccc85f70>, 3 more tries to go.\n",
      "2023-11-30 01:28:30 +0000    3396 promptflow-runtime INFO     Patching 2023_11_29_192747_base_run...\n",
      "2023-11-30 01:28:31 +0000    3396 promptflow-runtime INFO     Ending the aml run '2023_11_29_192747_base_run' with status 'Completed'...\n",
      "2023-11-30 01:28:31 +0000      45 promptflow-runtime INFO     Process 3396 finished\n",
      "2023-11-30 01:28:31 +0000      45 promptflow-runtime INFO     [45] Child process finished!\n",
      "2023-11-30 01:28:31 +0000      45 promptflow-runtime INFO     [2023_11_29_192747_base_run] End processing bulk run\n",
      "======= Run Summary =======\n",
      "Run name: \"2023_11_29_192747_base_run\"\n",
      "Run status: \"Completed\"\n",
      "Start time: \"2023-11-30 01:28:23.431543+00:00\"\n",
      "Duration: \"0:00:07.703187\"\n",
      "Run url: \"https://ml.azure.com/prompts/flow/bulkrun/run/2023_11_29_192747_base_run/details?wsid=/subscriptions/91d27443-f037-45d9-bb0c-428256992df6/resourceGroups/rg-contosooutdoors/providers/Microsoft.MachineLearningServices/workspaces/contoso-store\""
     ]
    },
    {
     "data": {
      "text/plain": [
       "<promptflow._sdk.entities._run.Run at 0x1ac3f1bc580>"
      ]
     },
     "execution_count": 53,
     "metadata": {},
     "output_type": "execute_result"
    }
   ],
   "source": [
    "pf.stream(base_run)"
   ]
  },
  {
   "cell_type": "code",
   "execution_count": 54,
   "metadata": {},
   "outputs": [
    {
     "data": {
      "text/html": [
       "<div>\n",
       "<style scoped>\n",
       "    .dataframe tbody tr th:only-of-type {\n",
       "        vertical-align: middle;\n",
       "    }\n",
       "\n",
       "    .dataframe tbody tr th {\n",
       "        vertical-align: top;\n",
       "    }\n",
       "\n",
       "    .dataframe thead th {\n",
       "        text-align: right;\n",
       "    }\n",
       "</style>\n",
       "<table border=\"1\" class=\"dataframe\">\n",
       "  <thead>\n",
       "    <tr style=\"text-align: right;\">\n",
       "      <th></th>\n",
       "      <th>inputs.chat_history</th>\n",
       "      <th>inputs.customerId</th>\n",
       "      <th>inputs.question</th>\n",
       "      <th>inputs.line_number</th>\n",
       "      <th>outputs.answer</th>\n",
       "      <th>outputs.context</th>\n",
       "    </tr>\n",
       "    <tr>\n",
       "      <th>outputs.line_number</th>\n",
       "      <th></th>\n",
       "      <th></th>\n",
       "      <th></th>\n",
       "      <th></th>\n",
       "      <th></th>\n",
       "      <th></th>\n",
       "    </tr>\n",
       "  </thead>\n",
       "  <tbody>\n",
       "    <tr>\n",
       "      <th>3</th>\n",
       "      <td>[]</td>\n",
       "      <td>6</td>\n",
       "      <td>Do you have any hiking boots?</td>\n",
       "      <td>3</td>\n",
       "      <td>Hi Emily! Yes, we have some great hiking boots...</td>\n",
       "      <td>[{'id': '4', 'title': 'TrekReady Hiking Boots'...</td>\n",
       "    </tr>\n",
       "    <tr>\n",
       "      <th>2</th>\n",
       "      <td>[]</td>\n",
       "      <td>3</td>\n",
       "      <td>Can you tell me about your selection of tents?</td>\n",
       "      <td>2</td>\n",
       "      <td>Hi Michael Johnson! As a Base member, you've g...</td>\n",
       "      <td>[{'id': '8', 'title': 'Alpine Explorer Tent', ...</td>\n",
       "    </tr>\n",
       "    <tr>\n",
       "      <th>4</th>\n",
       "      <td>[]</td>\n",
       "      <td>2</td>\n",
       "      <td>What gear do you recommend for hiking?</td>\n",
       "      <td>4</td>\n",
       "      <td>Hi Jane Doe, great to hear from you! As a Gold...</td>\n",
       "      <td>[{'id': '16', 'title': 'TrailLite Daypack', 'c...</td>\n",
       "    </tr>\n",
       "    <tr>\n",
       "      <th>0</th>\n",
       "      <td>[]</td>\n",
       "      <td>4</td>\n",
       "      <td>tell me about your hiking jackets</td>\n",
       "      <td>0</td>\n",
       "      <td>Hi Sarah Lee! 😊 We offer two fabulous hiking j...</td>\n",
       "      <td>[{'id': '3', 'title': 'Summit Breeze Jacket', ...</td>\n",
       "    </tr>\n",
       "    <tr>\n",
       "      <th>1</th>\n",
       "      <td>[]</td>\n",
       "      <td>1</td>\n",
       "      <td>Do you have any climbing gear?</td>\n",
       "      <td>1</td>\n",
       "      <td>Hello John! As a Base member, you can gear up ...</td>\n",
       "      <td>[{'id': '3', 'title': 'Summit Breeze Jacket', ...</td>\n",
       "    </tr>\n",
       "  </tbody>\n",
       "</table>\n",
       "</div>"
      ],
      "text/plain": [
       "                    inputs.chat_history inputs.customerId  \\\n",
       "outputs.line_number                                         \n",
       "3                                    []                 6   \n",
       "2                                    []                 3   \n",
       "4                                    []                 2   \n",
       "0                                    []                 4   \n",
       "1                                    []                 1   \n",
       "\n",
       "                                                    inputs.question  \\\n",
       "outputs.line_number                                                   \n",
       "3                                     Do you have any hiking boots?   \n",
       "2                    Can you tell me about your selection of tents?   \n",
       "4                            What gear do you recommend for hiking?   \n",
       "0                                 tell me about your hiking jackets   \n",
       "1                                    Do you have any climbing gear?   \n",
       "\n",
       "                     inputs.line_number  \\\n",
       "outputs.line_number                       \n",
       "3                                     3   \n",
       "2                                     2   \n",
       "4                                     4   \n",
       "0                                     0   \n",
       "1                                     1   \n",
       "\n",
       "                                                        outputs.answer  \\\n",
       "outputs.line_number                                                      \n",
       "3                    Hi Emily! Yes, we have some great hiking boots...   \n",
       "2                    Hi Michael Johnson! As a Base member, you've g...   \n",
       "4                    Hi Jane Doe, great to hear from you! As a Gold...   \n",
       "0                    Hi Sarah Lee! 😊 We offer two fabulous hiking j...   \n",
       "1                    Hello John! As a Base member, you can gear up ...   \n",
       "\n",
       "                                                       outputs.context  \n",
       "outputs.line_number                                                     \n",
       "3                    [{'id': '4', 'title': 'TrekReady Hiking Boots'...  \n",
       "2                    [{'id': '8', 'title': 'Alpine Explorer Tent', ...  \n",
       "4                    [{'id': '16', 'title': 'TrailLite Daypack', 'c...  \n",
       "0                    [{'id': '3', 'title': 'Summit Breeze Jacket', ...  \n",
       "1                    [{'id': '3', 'title': 'Summit Breeze Jacket', ...  "
      ]
     },
     "execution_count": 54,
     "metadata": {},
     "output_type": "execute_result"
    }
   ],
   "source": [
    "details = pf.get_details(base_run)\n",
    "details.head(10)"
   ]
  },
  {
   "cell_type": "markdown",
   "metadata": {},
   "source": [
    "# Cloud Eval run on Json Data"
   ]
  },
  {
   "cell_type": "code",
   "execution_count": 55,
   "metadata": {},
   "outputs": [
    {
     "name": "stdout",
     "output_type": "stream",
     "text": [
      "2023_11_29_192747_eval_run\n",
      "Portal url: https://ml.azure.com/prompts/flow/bulkrun/run/2023_11_29_192747_eval_run/details?wsid=/subscriptions/91d27443-f037-45d9-bb0c-428256992df6/resourceGroups/rg-contosooutdoors/providers/Microsoft.MachineLearningServices/workspaces/contoso-store\n"
     ]
    }
   ],
   "source": [
    "eval_flow = \"../eval/multi_flow/\"\n",
    "data = \"../data/testdata.jsonl\"\n",
    "run_name = timestamp+\"_eval_run\"\n",
    "print(run_name)\n",
    "\n",
    "eval_run_variant = pf.run(\n",
    "    flow=eval_flow,\n",
    "    data=data,  # path to the data file\n",
    "    run=base_run,  # use run as the variant\n",
    "    column_mapping={\n",
    "        # reference data\n",
    "        \"customerId\": \"${data.customerId}\",\n",
    "        \"question\": \"${data.question}\",\n",
    "        \"context\": \"${run.outputs.context}\",\n",
    "        # reference the run's output\n",
    "        \"answer\": \"${run.outputs.answer}\",\n",
    "    },\n",
    "    runtime=runtime,\n",
    "    display_name=run_name,\n",
    "    name=run_name\n",
    ")"
   ]
  },
  {
   "cell_type": "code",
   "execution_count": 56,
   "metadata": {},
   "outputs": [
    {
     "name": "stdout",
     "output_type": "stream",
     "text": [
      "2023-11-30 01:30:39 +0000     100 promptflow-runtime INFO     [2023_11_29_192747_eval_run] Receiving v2 bulk run request 63aad1da-c437-47cf-94c4-3b93dea6288d: {\"flow_id\": \"2023_11_29_192747_eval_run\", \"flow_run_id\": \"2023_11_29_192747_eval_run\", \"flow_source\": {\"flow_source_type\": 1, \"flow_source_info\": {\"snapshot_id\": \"a6a9f24f-e979-4ef7-83e4-565b8ea540c7\"}, \"flow_dag_file\": \"flow.dag.yaml\"}, \"connections\": \"**data_scrubbed**\", \"log_path\": \"https://stcontosoout446048492429.blob.core.windows.net/azureml/ExperimentRun/dcid.2023_11_29_192747_eval_run/logs/azureml/executionlogs.txt?sv=2019-07-07&sr=b&sig=**data_scrubbed**&skoid=6a9cdc9c-374e-4dae-aeb3-39ff5126526d&sktid=72f988bf-86f1-41af-91ab-2d7cd011db47&skt=2023-11-29T22%3A56%3A02Z&ske=2023-12-01T07%3A06%3A02Z&sks=b&skv=2019-07-07&st=2023-11-30T01%3A20%3A38Z&se=2023-11-30T09%3A30%3A38Z&sp=rcw\", \"app_insights_instrumentation_key\": \"InstrumentationKey=**data_scrubbed**;IngestionEndpoint=https://eastus-6.in.applicationinsights.azure.com/;LiveEndpoint=https://eastus.livediagnostics.monitor.azure.com/\", \"data_inputs\": {\"data\": \"azureml://datastores/workspaceblobstore/paths/LocalUpload/da7da0535829a1c714482f457f2a936e/testdata.jsonl\", \"run.outputs\": \"azureml:/subscriptions/91d27443-f037-45d9-bb0c-428256992df6/resourceGroups/rg-contosooutdoors/providers/Microsoft.MachineLearningServices/workspaces/contoso-store/data/azureml_2023_11_29_192747_base_run_output_data_flow_outputs/versions/1\"}, \"inputs_mapping\": {\"customerId\": \"${data.customerId}\", \"question\": \"${data.question}\", \"context\": \"${run.outputs.context}\", \"answer\": \"${run.outputs.answer}\"}, \"azure_storage_setting\": {\"azure_storage_mode\": 1, \"storage_account_name\": \"stcontosoout446048492429\", \"blob_container_name\": \"azureml-blobstore-4ab2cc7d-74ab-4a3f-9ce1-218668c55b0e\", \"flow_artifacts_root_path\": \"promptflow/PromptFlowArtifacts/2023_11_29_192747_eval_run\", \"blob_container_sas_token\": \"?sv=2019-07-07&sr=c&sig=**data_scrubbed**&skoid=6a9cdc9c-374e-4dae-aeb3-39ff5126526d&sktid=72f988bf-86f1-41af-91ab-2d7cd011db47&skt=2023-11-30T01%3A30%3A38Z&ske=2023-12-07T01%3A30%3A38Z&sks=b&skv=2019-07-07&se=2023-12-07T01%3A30%3A38Z&sp=racwl\", \"output_datastore_name\": \"workspaceblobstore\"}}\n",
      "2023-11-30 01:30:39 +0000     100 promptflow-runtime INFO     Runtime version: 20231024.v1. PromptFlow version: 0.1.0b8.dev5\n",
      "2023-11-30 01:30:39 +0000     100 promptflow-runtime INFO     Running <function RunHistoryClient.get_run at 0x7fe5257dc310>, 3 more tries to go.\n",
      "2023-11-30 01:30:39 +0000     100 promptflow-runtime INFO     Running <function RunHistoryClient.get_run at 0x7fe5257dc280>, 3 more tries to go.\n",
      "2023-11-30 01:30:39 +0000     100 promptflow-runtime INFO     Running <function RunHistoryClient.update_run_status at 0x7fe5257dc0d0>, 3 more tries to go.\n",
      "2023-11-30 01:30:39 +0000     100 promptflow-runtime INFO     Updating 2023_11_29_192747_eval_run to Status.Preparing...\n",
      "2023-11-30 01:30:40 +0000     100 promptflow-runtime INFO     Starting to check process 3530 status for run 2023_11_29_192747_eval_run\n",
      "2023-11-30 01:30:40 +0000     100 promptflow-runtime INFO     Start checking run status for bulk run 2023_11_29_192747_eval_run\n",
      "2023-11-30 01:30:40 +0000     100 promptflow-runtime INFO     Start checking run status for run 2023_11_29_192747_eval_run\n",
      "2023-11-30 01:30:40 +0000    3530 promptflow-runtime INFO     [100--3530] Start processing flowV2......\n",
      "2023-11-30 01:30:40 +0000    3530 promptflow-runtime INFO     Setting mlflow tracking uri...\n",
      "2023-11-30 01:30:40 +0000    3530 promptflow-runtime INFO     Validating 'AzureML Data Scientist' user authentication...\n",
      "2023-11-30 01:30:40 +0000    3530 promptflow-runtime INFO     Running <function RuntimeConfig.validate_by_get_dummy_run at 0x7fe5257e6790>, 5 more tries to go.\n",
      "2023-11-30 01:30:40 +0000    3530 promptflow-runtime INFO     Successfully validated 'AzureML Data Scientist' user authentication.\n",
      "2023-11-30 01:30:40 +0000    3530 promptflow-runtime INFO     Using AzureMLRunStorageV2\n",
      "2023-11-30 01:30:40 +0000    3530 promptflow-runtime INFO     Setting mlflow tracking uri to 'azureml://eastus.api.azureml.ms/mlflow/v1.0/subscriptions/91d27443-f037-45d9-bb0c-428256992df6/resourceGroups/rg-contosooutdoors/providers/Microsoft.MachineLearningServices/workspaces/contoso-store'\n",
      "2023-11-30 01:30:40 +0000    3530 promptflow-runtime INFO     Running <function MlflowHelper.get_host_creds at 0x7fe4f1cc4b80>, 5 more tries to go.\n",
      "2023-11-30 01:30:41 +0000    3530 promptflow-runtime INFO     Initialized blob service client for AzureMLRunTracker.\n",
      "2023-11-30 01:30:41 +0000    3530 promptflow-runtime INFO     Setting mlflow tracking uri to 'azureml://eastus.api.azureml.ms/mlflow/v1.0/subscriptions/91d27443-f037-45d9-bb0c-428256992df6/resourceGroups/rg-contosooutdoors/providers/Microsoft.MachineLearningServices/workspaces/contoso-store'\n",
      "2023-11-30 01:30:41 +0000    3530 promptflow-runtime INFO     Running <function MlflowHelper.get_host_creds at 0x7fe4f1cc4b80>, 5 more tries to go.\n",
      "2023-11-30 01:30:41 +0000    3530 promptflow-runtime INFO     Running <function SnapshotsClient.download_snapshot at 0x7fe524a8a0d0>, 3 more tries to go.\n",
      "2023-11-30 01:30:41 +0000    3530 promptflow-runtime INFO     Get snapshot sas url for a6a9f24f-e979-4ef7-83e4-565b8ea540c7...\n",
      "2023-11-30 01:30:47 +0000    3530 promptflow-runtime INFO     Downloading snapshot a6a9f24f-e979-4ef7-83e4-565b8ea540c7 from uri https://stcontosoout446048492429.blob.core.windows.net/snapshotzips/contoso-store:4ab2cc7d-74ab-4a3f-9ce1-218668c55b0e:snapshotzip/a6a9f24f-e979-4ef7-83e4-565b8ea540c7.zip...\n",
      "2023-11-30 01:30:47 +0000    3530 promptflow-runtime INFO     Downloaded file /service/app/45135/requests/2023_11_29_192747_eval_run/a6a9f24f-e979-4ef7-83e4-565b8ea540c7.zip with size 31573 for snapshot a6a9f24f-e979-4ef7-83e4-565b8ea540c7.\n",
      "2023-11-30 01:30:47 +0000    3530 promptflow-runtime INFO     Download snapshot a6a9f24f-e979-4ef7-83e4-565b8ea540c7 completed.\n",
      "2023-11-30 01:30:47 +0000    3530 promptflow-runtime INFO     Running <function prepare_data at 0x7fe4ee80c3a0>, 3 more tries to go.\n",
      "2023-11-30 01:30:48 +0000    3530 promptflow-runtime INFO     Resolve data from url finished in 0.48907729098573327 seconds\n",
      "2023-11-30 01:30:48 +0000    3530 promptflow-runtime INFO     Running <function prepare_data at 0x7fe4ee80c3a0>, 3 more tries to go.\n",
      "2023-11-30 01:30:48 +0000    3530 promptflow-runtime INFO     Resolve data from url finished in 0.6203559511341155 seconds\n",
      "2023-11-30 01:30:48 +0000    3530 promptflow-runtime INFO     Flow run is not terminated, skip persisting flow run record.\n",
      "2023-11-30 01:30:48 +0000    3530 promptflow-runtime INFO     Starting the aml run '2023_11_29_192747_eval_run'...\n",
      "2023-11-30 01:30:49 +0000    3530 execution.bulk     INFO     Using fork, process count: 5\n",
      "2023-11-30 01:30:49 +0000    3561 execution          INFO     Process 3561 started.\n",
      "2023-11-30 01:30:49 +0000    3567 execution          INFO     Process 3567 started.\n",
      "2023-11-30 01:30:49 +0000    3572 execution          INFO     Process 3572 started.\n",
      "2023-11-30 01:30:49 +0000    3576 execution          INFO     Process 3576 started.\n",
      "2023-11-30 01:30:49 +0000    3580 execution          INFO     Process 3580 started.\n",
      "2023-11-30 01:30:49 +0000    3530 execution          INFO     Process name: Process-50:2, Process id: 3561, Line number: 0 start execution.\n",
      "2023-11-30 01:30:49 +0000    3530 execution          INFO     Process name: Process-50:3, Process id: 3567, Line number: 1 start execution.\n",
      "2023-11-30 01:30:49 +0000    3530 promptflow-runtime INFO     Flow run is not terminated, skip persisting flow run record.\n",
      "2023-11-30 01:30:49 +0000    3530 execution          INFO     Process name: Process-50:4, Process id: 3572, Line number: 2 start execution.\n",
      "2023-11-30 01:30:49 +0000    3530 promptflow-runtime INFO     Flow run is not terminated, skip persisting flow run record.\n",
      "2023-11-30 01:30:49 +0000    3530 execution          INFO     Process name: Process-50:5, Process id: 3576, Line number: 3 start execution.\n",
      "2023-11-30 01:30:49 +0000    3530 promptflow-runtime INFO     Flow run is not terminated, skip persisting flow run record.\n",
      "2023-11-30 01:30:49 +0000    3530 execution          INFO     Process name: Process-50:6, Process id: 3580, Line number: 4 start execution.\n",
      "2023-11-30 01:30:49 +0000    3530 promptflow-runtime INFO     Flow run is not terminated, skip persisting flow run record.\n",
      "2023-11-30 01:30:49 +0000    3530 promptflow-runtime INFO     Flow run is not terminated, skip persisting flow run record.\n",
      "2023-11-30 01:30:49 +0000    3561 execution          WARNING  [groundedness_score in line 0 (index starts from 0)] stderr> Exception occurs: RateLimitError: Requests to the ChatCompletions_Create Operation under Azure OpenAI API version 2023-07-01-preview have exceeded call rate limit of your current OpenAI S0 pricing tier. Please retry after 10 seconds. Please go here: https://aka.ms/oai/quotaincrease if you would like to further increase the default rate limit.\n",
      "2023-11-30 01:30:49 +0000    3572 execution          WARNING  [groundedness_score in line 2 (index starts from 0)] stderr> Exception occurs: RateLimitError: Requests to the ChatCompletions_Create Operation under Azure OpenAI API version 2023-07-01-preview have exceeded call rate limit of your current OpenAI S0 pricing tier. Please retry after 10 seconds. Please go here: https://aka.ms/oai/quotaincrease if you would like to further increase the default rate limit.\n",
      "2023-11-30 01:30:49 +0000    3561 execution          WARNING  [relevance_score in line 0 (index starts from 0)] stderr> Exception occurs: RateLimitError: Requests to the ChatCompletions_Create Operation under Azure OpenAI API version 2023-07-01-preview have exceeded call rate limit of your current OpenAI S0 pricing tier. Please retry after 10 seconds. Please go here: https://aka.ms/oai/quotaincrease if you would like to further increase the default rate limit.\n",
      "2023-11-30 01:30:49 +0000    3572 execution          WARNING  [groundedness_score in line 2 (index starts from 0)] stderr> RateLimitError #0, Retry-After=10, Back off 10.0 seconds for retry.\n",
      "2023-11-30 01:30:49 +0000    3561 execution          WARNING  [groundedness_score in line 0 (index starts from 0)] stderr> RateLimitError #0, Retry-After=10, Back off 10.0 seconds for retry.\n",
      "2023-11-30 01:30:49 +0000    3567 execution          WARNING  [groundedness_score in line 1 (index starts from 0)] stderr> Exception occurs: RateLimitError: Requests to the ChatCompletions_Create Operation under Azure OpenAI API version 2023-07-01-preview have exceeded call rate limit of your current OpenAI S0 pricing tier. Please retry after 10 seconds. Please go here: https://aka.ms/oai/quotaincrease if you would like to further increase the default rate limit.\n",
      "2023-11-30 01:30:49 +0000    3561 execution          WARNING  [relevance_score in line 0 (index starts from 0)] stderr> RateLimitError #0, Retry-After=10, Back off 10.0 seconds for retry.\n",
      "2023-11-30 01:30:49 +0000    3567 execution          WARNING  [relevance_score in line 1 (index starts from 0)] stderr> Exception occurs: RateLimitError: Requests to the ChatCompletions_Create Operation under Azure OpenAI API version 2023-07-01-preview have exceeded call rate limit of your current OpenAI S0 pricing tier. Please retry after 10 seconds. Please go here: https://aka.ms/oai/quotaincrease if you would like to further increase the default rate limit.\n",
      "2023-11-30 01:30:49 +0000    3567 execution          WARNING  [groundedness_score in line 1 (index starts from 0)] stderr> RateLimitError #0, Retry-After=10, Back off 10.0 seconds for retry.\n",
      "2023-11-30 01:30:50 +0000    3567 execution          WARNING  [relevance_score in line 1 (index starts from 0)] stderr> RateLimitError #0, Retry-After=10, Back off 10.0 seconds for retry.\n",
      "2023-11-30 01:30:50 +0000    3576 execution          WARNING  [groundedness_score in line 3 (index starts from 0)] stderr> Exception occurs: RateLimitError: Requests to the ChatCompletions_Create Operation under Azure OpenAI API version 2023-07-01-preview have exceeded call rate limit of your current OpenAI S0 pricing tier. Please retry after 10 seconds. Please go here: https://aka.ms/oai/quotaincrease if you would like to further increase the default rate limit.\n",
      "2023-11-30 01:30:50 +0000    3576 execution          WARNING  [groundedness_score in line 3 (index starts from 0)] stderr> RateLimitError #0, Retry-After=10, Back off 10.0 seconds for retry.\n",
      "2023-11-30 01:30:50 +0000    3580 execution          WARNING  [groundedness_score in line 4 (index starts from 0)] stderr> Exception occurs: RateLimitError: Requests to the ChatCompletions_Create Operation under Azure OpenAI API version 2023-07-01-preview have exceeded call rate limit of your current OpenAI S0 pricing tier. Please retry after 10 seconds. Please go here: https://aka.ms/oai/quotaincrease if you would like to further increase the default rate limit.\n",
      "2023-11-30 01:30:50 +0000    3580 execution          WARNING  [groundedness_score in line 4 (index starts from 0)] stderr> RateLimitError #0, Retry-After=10, Back off 10.0 seconds for retry.\n",
      "2023-11-30 01:30:50 +0000    3576 execution          WARNING  [relevance_score in line 3 (index starts from 0)] stderr> Exception occurs: RateLimitError: Requests to the ChatCompletions_Create Operation under Azure OpenAI API version 2023-07-01-preview have exceeded call rate limit of your current OpenAI S0 pricing tier. Please retry after 9 seconds. Please go here: https://aka.ms/oai/quotaincrease if you would like to further increase the default rate limit.\n",
      "2023-11-30 01:30:50 +0000    3576 execution          WARNING  [relevance_score in line 3 (index starts from 0)] stderr> RateLimitError #0, Retry-After=9, Back off 9.0 seconds for retry.\n",
      "2023-11-30 01:30:50 +0000    3580 execution          WARNING  [relevance_score in line 4 (index starts from 0)] stderr> Exception occurs: RateLimitError: Requests to the ChatCompletions_Create Operation under Azure OpenAI API version 2023-07-01-preview have exceeded call rate limit of your current OpenAI S0 pricing tier. Please retry after 9 seconds. Please go here: https://aka.ms/oai/quotaincrease if you would like to further increase the default rate limit.\n",
      "2023-11-30 01:30:50 +0000    3580 execution          WARNING  [relevance_score in line 4 (index starts from 0)] stderr> RateLimitError #0, Retry-After=9, Back off 9.0 seconds for retry.\n",
      "2023-11-30 01:30:50 +0000    3572 execution          WARNING  [relevance_score in line 2 (index starts from 0)] stderr> Exception occurs: RateLimitError: Requests to the ChatCompletions_Create Operation under Azure OpenAI API version 2023-07-01-preview have exceeded call rate limit of your current OpenAI S0 pricing tier. Please retry after 9 seconds. Please go here: https://aka.ms/oai/quotaincrease if you would like to further increase the default rate limit.\n",
      "2023-11-30 01:30:50 +0000    3572 execution          WARNING  [relevance_score in line 2 (index starts from 0)] stderr> RateLimitError #0, Retry-After=9, Back off 9.0 seconds for retry.\n",
      "2023-11-30 01:31:00 +0000     100 promptflow-runtime INFO     Running <function RunHistoryClient.get_run at 0x7fe5257dc310>, 3 more tries to go.\n",
      "2023-11-30 01:31:00 +0000     100 promptflow-runtime INFO     Running <function RunHistoryClient.get_run at 0x7fe5257dc280>, 3 more tries to go.\n",
      "2023-11-30 01:31:00 +0000     100 promptflow-runtime INFO     Run 2023_11_29_192747_eval_run is in progress, Execution status: Running\n",
      "2023-11-30 01:31:00 +0000    3530 execution          INFO     Process name: Process-50:3, Process id: 3567, Line number: 1 completed.\n",
      "2023-11-30 01:31:00 +0000    3530 execution.bulk     INFO     Finished 1 / 5 lines.\n",
      "2023-11-30 01:31:00 +0000    3530 execution.bulk     INFO     Average execution time for completed lines: 11.45 seconds. Estimated time for incomplete lines: 45.8 seconds.\n",
      "2023-11-30 01:31:00 +0000    3530 execution          INFO     Process name: Process-50:5, Process id: 3576, Line number: 3 completed.\n",
      "2023-11-30 01:31:00 +0000    3530 execution.bulk     INFO     Finished 2 / 5 lines.\n",
      "2023-11-30 01:31:00 +0000    3530 execution.bulk     INFO     Average execution time for completed lines: 5.76 seconds. Estimated time for incomplete lines: 17.28 seconds.\n",
      "2023-11-30 01:31:01 +0000    3530 execution          INFO     Process name: Process-50:6, Process id: 3580, Line number: 4 completed.\n",
      "2023-11-30 01:31:01 +0000    3530 execution.bulk     INFO     Finished 3 / 5 lines.\n",
      "2023-11-30 01:31:01 +0000    3530 execution.bulk     INFO     Average execution time for completed lines: 3.91 seconds. Estimated time for incomplete lines: 7.82 seconds.\n",
      "2023-11-30 01:31:01 +0000    3530 execution          INFO     Process name: Process-50:4, Process id: 3572, Line number: 2 completed.\n",
      "2023-11-30 01:31:01 +0000    3530 execution.bulk     INFO     Finished 4 / 5 lines.\n",
      "2023-11-30 01:31:01 +0000    3530 execution.bulk     INFO     Average execution time for completed lines: 2.96 seconds. Estimated time for incomplete lines: 2.96 seconds.\n",
      "2023-11-30 01:31:01 +0000    3530 execution          INFO     Process name: Process-50:2, Process id: 3561, Line number: 0 completed.\n",
      "2023-11-30 01:31:01 +0000    3530 execution.bulk     INFO     Finished 5 / 5 lines.\n",
      "2023-11-30 01:31:01 +0000    3530 execution.bulk     INFO     Average execution time for completed lines: 2.43 seconds. Estimated time for incomplete lines: 0.0 seconds.\n",
      "2023-11-30 01:31:02 +0000    3530 execution          INFO     Executing aggregation nodes...\n",
      "2023-11-30 01:31:02 +0000    3530 execution          INFO     Finish executing aggregation nodes.\n",
      "2023-11-30 01:31:07 +0000    3530 execution.bulk     INFO     Upload status summary metrics for run 2023_11_29_192747_eval_run finished in 4.911500142887235 seconds\n",
      "2023-11-30 01:31:10 +0000    3530 execution.bulk     INFO     Upload metrics for run 2023_11_29_192747_eval_run finished in 2.8606833051890135 seconds\n",
      "2023-11-30 01:31:10 +0000    3530 promptflow-runtime INFO     Successfully write run properties {\"azureml.promptflow.total_tokens\": 18293, \"_azureml.evaluate_artifacts\": \"[{\\\"path\\\": \\\"instance_results.jsonl\\\", \\\"type\\\": \\\"table\\\"}]\"} with run id '2023_11_29_192747_eval_run'\n",
      "2023-11-30 01:31:10 +0000    3530 execution.bulk     INFO     Upload RH properties for run 2023_11_29_192747_eval_run finished in 0.09041868476197124 seconds\n",
      "2023-11-30 01:31:10 +0000    3530 promptflow-runtime INFO     Running <function AssetClient.create_unregistered_output at 0x7fe524bae940>, 3 more tries to go.\n",
      "2023-11-30 01:31:10 +0000    3530 promptflow-runtime INFO     Creating unregistered output Asset for Run 2023_11_29_192747_eval_run...\n",
      "2023-11-30 01:31:10 +0000    3530 promptflow-runtime INFO     Created debug_info Asset: azureml://locations/eastus/workspaces/4ab2cc7d-74ab-4a3f-9ce1-218668c55b0e/data/azureml_2023_11_29_192747_eval_run_output_data_debug_info/versions/1\n",
      "2023-11-30 01:31:10 +0000    3530 promptflow-runtime INFO     Running <function AssetClient.create_unregistered_output at 0x7fe524bae940>, 3 more tries to go.\n",
      "2023-11-30 01:31:10 +0000    3530 promptflow-runtime INFO     Creating unregistered output Asset for Run 2023_11_29_192747_eval_run...\n",
      "2023-11-30 01:31:10 +0000    3530 promptflow-runtime INFO     Created flow_outputs output Asset: azureml://locations/eastus/workspaces/4ab2cc7d-74ab-4a3f-9ce1-218668c55b0e/data/azureml_2023_11_29_192747_eval_run_output_data_flow_outputs/versions/1\n",
      "2023-11-30 01:31:10 +0000    3530 promptflow-runtime INFO     Running <function ArtifactClient.register_artifact at 0x7fe524baec10>, 3 more tries to go.\n",
      "2023-11-30 01:31:10 +0000    3530 promptflow-runtime INFO     Creating Artifact for Run 2023_11_29_192747_eval_run...\n",
      "2023-11-30 01:31:11 +0000    3530 promptflow-runtime INFO     Created instance_results.jsonl Artifact.\n",
      "2023-11-30 01:31:11 +0000    3530 promptflow-runtime INFO     Running <function RunHistoryClient.patch_run at 0x7fe5257d5f70>, 3 more tries to go.\n",
      "2023-11-30 01:31:11 +0000    3530 promptflow-runtime INFO     Patching 2023_11_29_192747_eval_run...\n",
      "2023-11-30 01:31:11 +0000    3530 promptflow-runtime INFO     Ending the aml run '2023_11_29_192747_eval_run' with status 'Completed'...\n",
      "2023-11-30 01:31:11 +0000     100 promptflow-runtime INFO     Process 3530 finished\n",
      "2023-11-30 01:31:11 +0000     100 promptflow-runtime INFO     [100] Child process finished!\n",
      "2023-11-30 01:31:11 +0000     100 promptflow-runtime INFO     [2023_11_29_192747_eval_run] End processing bulk run\n",
      "======= Run Summary =======\n",
      "Run name: \"2023_11_29_192747_eval_run\"\n",
      "Run status: \"Completed\"\n",
      "Start time: \"2023-11-30 01:30:49.063790+00:00\"\n",
      "Duration: \"0:00:22.267669\"\n",
      "Run url: \"https://ml.azure.com/prompts/flow/bulkrun/run/2023_11_29_192747_eval_run/details?wsid=/subscriptions/91d27443-f037-45d9-bb0c-428256992df6/resourceGroups/rg-contosooutdoors/providers/Microsoft.MachineLearningServices/workspaces/contoso-store\""
     ]
    },
    {
     "data": {
      "text/plain": [
       "<promptflow._sdk.entities._run.Run at 0x1ac4203aa60>"
      ]
     },
     "execution_count": 56,
     "metadata": {},
     "output_type": "execute_result"
    }
   ],
   "source": [
    "pf.stream(eval_run_variant)"
   ]
  },
  {
   "cell_type": "code",
   "execution_count": 57,
   "metadata": {},
   "outputs": [
    {
     "data": {
      "text/html": [
       "<div>\n",
       "<style scoped>\n",
       "    .dataframe tbody tr th:only-of-type {\n",
       "        vertical-align: middle;\n",
       "    }\n",
       "\n",
       "    .dataframe tbody tr th {\n",
       "        vertical-align: top;\n",
       "    }\n",
       "\n",
       "    .dataframe thead th {\n",
       "        text-align: right;\n",
       "    }\n",
       "</style>\n",
       "<table border=\"1\" class=\"dataframe\">\n",
       "  <thead>\n",
       "    <tr style=\"text-align: right;\">\n",
       "      <th></th>\n",
       "      <th>inputs.chat_history</th>\n",
       "      <th>inputs.customerId</th>\n",
       "      <th>inputs.question</th>\n",
       "      <th>inputs.context</th>\n",
       "      <th>inputs.answer</th>\n",
       "      <th>inputs.line_number</th>\n",
       "      <th>outputs.gpt_coherence</th>\n",
       "      <th>outputs.gpt_fluency</th>\n",
       "      <th>outputs.gpt_groundedness</th>\n",
       "      <th>outputs.gpt_relevance</th>\n",
       "    </tr>\n",
       "    <tr>\n",
       "      <th>outputs.line_number</th>\n",
       "      <th></th>\n",
       "      <th></th>\n",
       "      <th></th>\n",
       "      <th></th>\n",
       "      <th></th>\n",
       "      <th></th>\n",
       "      <th></th>\n",
       "      <th></th>\n",
       "      <th></th>\n",
       "      <th></th>\n",
       "    </tr>\n",
       "  </thead>\n",
       "  <tbody>\n",
       "    <tr>\n",
       "      <th>1</th>\n",
       "      <td>[]</td>\n",
       "      <td>1</td>\n",
       "      <td>Do you have any climbing gear?</td>\n",
       "      <td>[{'id': '3', 'title': 'Summit Breeze Jacket', ...</td>\n",
       "      <td>Hello John! As a Base member, you can gear up ...</td>\n",
       "      <td>1</td>\n",
       "      <td>5.0</td>\n",
       "      <td>5.0</td>\n",
       "      <td>1.0</td>\n",
       "      <td>2.0</td>\n",
       "    </tr>\n",
       "    <tr>\n",
       "      <th>3</th>\n",
       "      <td>[]</td>\n",
       "      <td>6</td>\n",
       "      <td>Do you have any hiking boots?</td>\n",
       "      <td>[{'id': '4', 'title': 'TrekReady Hiking Boots'...</td>\n",
       "      <td>Hi Emily! Yes, we have some great hiking boots...</td>\n",
       "      <td>3</td>\n",
       "      <td>5.0</td>\n",
       "      <td>5.0</td>\n",
       "      <td>5.0</td>\n",
       "      <td>2.0</td>\n",
       "    </tr>\n",
       "    <tr>\n",
       "      <th>4</th>\n",
       "      <td>[]</td>\n",
       "      <td>2</td>\n",
       "      <td>What gear do you recommend for hiking?</td>\n",
       "      <td>[{'id': '16', 'title': 'TrailLite Daypack', 'c...</td>\n",
       "      <td>Hi Jane Doe, great to hear from you! As a Gold...</td>\n",
       "      <td>4</td>\n",
       "      <td>2.0</td>\n",
       "      <td>5.0</td>\n",
       "      <td>5.0</td>\n",
       "      <td>5.0</td>\n",
       "    </tr>\n",
       "    <tr>\n",
       "      <th>2</th>\n",
       "      <td>[]</td>\n",
       "      <td>3</td>\n",
       "      <td>Can you tell me about your selection of tents?</td>\n",
       "      <td>[{'id': '8', 'title': 'Alpine Explorer Tent', ...</td>\n",
       "      <td>Hi Michael Johnson! As a Base member, you've g...</td>\n",
       "      <td>2</td>\n",
       "      <td>4.0</td>\n",
       "      <td>5.0</td>\n",
       "      <td>1.0</td>\n",
       "      <td>4.0</td>\n",
       "    </tr>\n",
       "    <tr>\n",
       "      <th>0</th>\n",
       "      <td>[]</td>\n",
       "      <td>4</td>\n",
       "      <td>tell me about your hiking jackets</td>\n",
       "      <td>[{'id': '3', 'title': 'Summit Breeze Jacket', ...</td>\n",
       "      <td>Hi Sarah Lee! 😊 We offer two fabulous hiking j...</td>\n",
       "      <td>0</td>\n",
       "      <td>5.0</td>\n",
       "      <td>5.0</td>\n",
       "      <td>5.0</td>\n",
       "      <td>5.0</td>\n",
       "    </tr>\n",
       "  </tbody>\n",
       "</table>\n",
       "</div>"
      ],
      "text/plain": [
       "                    inputs.chat_history  inputs.customerId  \\\n",
       "outputs.line_number                                          \n",
       "1                                    []                  1   \n",
       "3                                    []                  6   \n",
       "4                                    []                  2   \n",
       "2                                    []                  3   \n",
       "0                                    []                  4   \n",
       "\n",
       "                                                    inputs.question  \\\n",
       "outputs.line_number                                                   \n",
       "1                                    Do you have any climbing gear?   \n",
       "3                                     Do you have any hiking boots?   \n",
       "4                            What gear do you recommend for hiking?   \n",
       "2                    Can you tell me about your selection of tents?   \n",
       "0                                 tell me about your hiking jackets   \n",
       "\n",
       "                                                        inputs.context  \\\n",
       "outputs.line_number                                                      \n",
       "1                    [{'id': '3', 'title': 'Summit Breeze Jacket', ...   \n",
       "3                    [{'id': '4', 'title': 'TrekReady Hiking Boots'...   \n",
       "4                    [{'id': '16', 'title': 'TrailLite Daypack', 'c...   \n",
       "2                    [{'id': '8', 'title': 'Alpine Explorer Tent', ...   \n",
       "0                    [{'id': '3', 'title': 'Summit Breeze Jacket', ...   \n",
       "\n",
       "                                                         inputs.answer  \\\n",
       "outputs.line_number                                                      \n",
       "1                    Hello John! As a Base member, you can gear up ...   \n",
       "3                    Hi Emily! Yes, we have some great hiking boots...   \n",
       "4                    Hi Jane Doe, great to hear from you! As a Gold...   \n",
       "2                    Hi Michael Johnson! As a Base member, you've g...   \n",
       "0                    Hi Sarah Lee! 😊 We offer two fabulous hiking j...   \n",
       "\n",
       "                     inputs.line_number  outputs.gpt_coherence  \\\n",
       "outputs.line_number                                              \n",
       "1                                     1                    5.0   \n",
       "3                                     3                    5.0   \n",
       "4                                     4                    2.0   \n",
       "2                                     2                    4.0   \n",
       "0                                     0                    5.0   \n",
       "\n",
       "                     outputs.gpt_fluency  outputs.gpt_groundedness  \\\n",
       "outputs.line_number                                                  \n",
       "1                                    5.0                       1.0   \n",
       "3                                    5.0                       5.0   \n",
       "4                                    5.0                       5.0   \n",
       "2                                    5.0                       1.0   \n",
       "0                                    5.0                       5.0   \n",
       "\n",
       "                     outputs.gpt_relevance  \n",
       "outputs.line_number                         \n",
       "1                                      2.0  \n",
       "3                                      2.0  \n",
       "4                                      5.0  \n",
       "2                                      4.0  \n",
       "0                                      5.0  "
      ]
     },
     "execution_count": 57,
     "metadata": {},
     "output_type": "execute_result"
    }
   ],
   "source": [
    "details = pf.get_details(eval_run_variant)\n",
    "details.head(10)"
   ]
  },
  {
   "cell_type": "code",
   "execution_count": 58,
   "metadata": {},
   "outputs": [
    {
     "name": "stdout",
     "output_type": "stream",
     "text": [
      "{\n",
      "    \"gpt_coherence\": 4.2,\n",
      "    \"gpt_coherence_pass_rate(%)\": 80.0,\n",
      "    \"gpt_fluency\": 5.0,\n",
      "    \"gpt_fluency_pass_rate(%)\": 100.0,\n",
      "    \"gpt_relevance\": 3.6,\n",
      "    \"gpt_relevance_pass_rate(%)\": 60.0,\n",
      "    \"gpt_groundedness\": 3.4,\n",
      "    \"gpt_groundedness_pass_rate(%)\": 60.0\n",
      "}\n"
     ]
    }
   ],
   "source": [
    "\n",
    "metrics = pf.get_metrics(eval_run_variant)\n",
    "print(json.dumps(metrics, indent=4))"
   ]
  },
  {
   "cell_type": "code",
   "execution_count": 59,
   "metadata": {},
   "outputs": [
    {
     "name": "stdout",
     "output_type": "stream",
     "text": [
      "Web View: https://ml.azure.com/prompts/flow/bulkrun/runs/outputs?wsid=/subscriptions/91d27443-f037-45d9-bb0c-428256992df6/resourceGroups/rg-contosooutdoors/providers/Microsoft.MachineLearningServices/workspaces/contoso-store&runId=2023_11_29_192747_base_run,2023_11_29_192747_eval_run\n"
     ]
    }
   ],
   "source": [
    "pf.visualize([base_run, eval_run_variant])"
   ]
  },
  {
   "cell_type": "markdown",
   "metadata": {},
   "source": []
  },
  {
   "cell_type": "markdown",
   "metadata": {},
   "source": []
  }
 ],
 "metadata": {
  "kernelspec": {
   "display_name": ".venv",
   "language": "python",
   "name": "python3"
  },
  "language_info": {
   "codemirror_mode": {
    "name": "ipython",
    "version": 3
   },
   "file_extension": ".py",
   "mimetype": "text/x-python",
   "name": "python",
   "nbconvert_exporter": "python",
   "pygments_lexer": "ipython3",
   "version": "3.9.18"
  }
 },
 "nbformat": 4,
 "nbformat_minor": 2
}
